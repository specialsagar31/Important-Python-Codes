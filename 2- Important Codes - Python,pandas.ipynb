{
 "cells": [
  {
   "cell_type": "markdown",
   "metadata": {},
   "source": [
    "## IRR"
   ]
  },
  {
   "cell_type": "code",
   "execution_count": null,
   "metadata": {},
   "outputs": [],
   "source": [
    "#Sorting by account no and month_id by descending as recent month should come first in irr calculation.\n",
    "dc_sort=dc.sort_values(by=['account_no','month_id'],ascending=[True,True])\n",
    "grp_1 = dc_sort.groupby('account_no')\n",
    "#Getting the irr values in dict\n",
    "d1={}\n",
    "for i,j in grp_1:\n",
    "    d1[i]=np.irr([j['demand_amt'].sum()*(-1)]+j['new_coll'].to_list())\n",
    "#Dict to DF\n",
    "df_irr=pd.DataFrame.from_dict(d1,orient='index',columns=['irr']).reset_index().rename(columns={'index':'account_no'})\n",
    "#Merging to original df\n",
    "dc_irr = pd.merge(df,df_irr,how='left')"
   ]
  },
  {
   "cell_type": "markdown",
   "metadata": {},
   "source": [
    "## Freq calculation"
   ]
  },
  {
   "cell_type": "code",
   "execution_count": 33,
   "metadata": {},
   "outputs": [],
   "source": [
    "#Getting the weights\n",
    "dc_sort['weights']=5*(0.982276302131194)**dc_sort['oddays']\n",
    "fre=dc_sort.groupby('account_no')['weights'].agg(['count','sum']).reset_index()\n",
    "\n",
    "#Getting the frequency score\n",
    "fre['freq']=fre['sum']/fre['count']\n",
    "fr = fre[['account_no','freq']]\n",
    "\n",
    "#Merging to time-ser df\n",
    "dc_irr = pd.merge(dc_irr,fr,how='left')"
   ]
  },
  {
   "cell_type": "markdown",
   "metadata": {},
   "source": [
    "## Treating and combining irr and freq and getting clusters"
   ]
  },
  {
   "cell_type": "code",
   "execution_count": 34,
   "metadata": {},
   "outputs": [],
   "source": [
    "dc_irr=dc_irr[dc_irr['irr'].notnull()]\n",
    "dc_irr=dc_irr[dc_irr['freq'].notnull()]\n",
    "\n",
    "## Removing outliers\n",
    "dc_irr=dc_irr[dc_irr['irr']<0.2]\n",
    "\n",
    "#Log transforming irr and freq then standard normalizing\n",
    "#IRR\n",
    "dc_irr['irr_log']=np.log(dc_irr['irr']+1)\n",
    "dc_irr['irr_log_sn']=(dc_irr['irr_log']-dc_irr['irr_log'].mean())/dc_irr['irr_log'].std()\n",
    "#FREQ\n",
    "dc_irr['freq_log']=np.log(5-dc_irr['freq']+1)\n",
    "dc_irr['freq_log_sn']=(dc_irr['freq_log']-dc_irr['freq_log'].mean())/dc_irr['freq_log'].std()\n",
    "#Comb score\n",
    "dc_irr['comb']=dc_irr['irr_log_sn']+(-dc_irr['freq_log_sn'])\n",
    "dc_irr['comb_sn']=(dc_irr['comb']-dc_irr['comb'].mean())/dc_irr['comb'].std()\n",
    "\n",
    "#Clustering\n",
    "cluster2 = KMeans(n_clusters=2).fit(dc_irr[['comb_sn']])\n",
    "dc_irr['Clusters']=cluster2.labels_\n",
    "\n",
    "#Dropping unnecessay columns\n",
    "dc_irr.drop(columns=['csr_id', 'irr','freq', 'irr_log', 'irr_log_sn', 'freq_log', 'freq_log_sn', 'comb','comb_sn',],inplace=True)"
   ]
  },
  {
   "cell_type": "markdown",
   "metadata": {},
   "source": [
    "## Cleaning address"
   ]
  },
  {
   "cell_type": "code",
   "execution_count": null,
   "metadata": {},
   "outputs": [],
   "source": [
    "import re\n",
    "find_words = re.compile(r'[A-Za-z]+').findall\n",
    "l=[]\n",
    "for i in df['address']:\n",
    "    #print(i)\n",
    "    myls=find_words(str(i))\n",
    "    myls=[i.lower() for i in myls]\n",
    "    stop_words=['uttar','dakshin','ward','nagar','post','road','tah','no','galli','colony','dist','para','house','village',\\\n",
    "               'mandir','tal','gram','mohalla','taluka','oni','dhar','gali','school','plot','near','tehsil','basti']\n",
    "    myls=[i for i in myls if i not in stop_words and len(i)>2]\n",
    "    l.append(myls)\n",
    "df['clean_address']=l"
   ]
  },
  {
   "cell_type": "code",
   "execution_count": null,
   "metadata": {},
   "outputs": [],
   "source": []
  },
  {
   "cell_type": "code",
   "execution_count": null,
   "metadata": {},
   "outputs": [],
   "source": []
  },
  {
   "cell_type": "code",
   "execution_count": null,
   "metadata": {},
   "outputs": [],
   "source": []
  }
 ],
 "metadata": {
  "kernelspec": {
   "display_name": "conda_python3",
   "language": "python",
   "name": "conda_python3"
  },
  "language_info": {
   "codemirror_mode": {
    "name": "ipython",
    "version": 3
   },
   "file_extension": ".py",
   "mimetype": "text/x-python",
   "name": "python",
   "nbconvert_exporter": "python",
   "pygments_lexer": "ipython3",
   "version": "3.6.13"
  }
 },
 "nbformat": 4,
 "nbformat_minor": 2
}
